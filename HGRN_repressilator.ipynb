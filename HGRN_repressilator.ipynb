{
 "cells": [
  {
   "cell_type": "markdown",
   "metadata": {},
   "source": [
    "# Ini"
   ]
  },
  {
   "cell_type": "code",
   "execution_count": 1,
   "metadata": {
    "ExecuteTime": {
     "end_time": "2022-08-24T08:48:36.809001Z",
     "start_time": "2022-08-24T08:48:29.994440Z"
    }
   },
   "outputs": [],
   "source": [
    "import numpy as np\n",
    "import sympy as sp\n",
    "from sympy import *\n",
    "from sympy.matrices import Matrix\n",
    "import random\n",
    "import matplotlib.pyplot as plt\n",
    "from copy import deepcopy as dc\n",
    "import itertools \n",
    "from sympy import Derivative,factor\n",
    "import math\n",
    "import pickle"
   ]
  },
  {
   "cell_type": "markdown",
   "metadata": {},
   "source": [
    "# Compute Poincare map"
   ]
  },
  {
   "cell_type": "code",
   "execution_count": 2,
   "metadata": {
    "ExecuteTime": {
     "end_time": "2022-08-24T08:50:38.350971Z",
     "start_time": "2022-08-24T08:50:15.460124Z"
    }
   },
   "outputs": [],
   "source": [
    "cac0a0,cac0a1,cac1a0,cac1a1 = sp.symbols('Cac0a0,Cac0a1,Cac1a0,Cac1a1')\n",
    "cba0b0,cba0b1,cba1b0,cba1b1 = sp.symbols('Cba0b0,Cba0b1,Cba1b0,Cba1b1')\n",
    "ccb0c0,ccb0c1,ccb1c0,ccb1c1 = sp.symbols('Ccb0c0,Ccb0c1,Ccb1c0,Ccb1c1')\n",
    "x1,x2,x3,x4,x5,x6,x7 = sp.symbols('x1,x2,x3,x4,x5,x6,x7')\n",
    "y1,y2,y3,y4,y5,y6,y7 = sp.symbols('y1,y2,y3,y4,y5,y6,y7')\n",
    "z1,z2,z3,z4,z5,z6,z7 = sp.symbols('z1,z2,z3,z4,z5,z6,z7')\n",
    "t1,t2,t3,t4,t5,t6 = sp.symbols('t1,t2,t3,t4,t5,t6')\n",
    "x,z = sp.symbols('x,z')\n",
    "\n",
    "eq11 = Eq(x1, x)\n",
    "eq12 = Eq(y1, 0)\n",
    "eq13 = Eq(z1, z)\n",
    "eq14 = Eq(t1*ccb1c1,z)\n",
    "\n",
    "eq21 = Eq(x2, x1 - cac1a0*t1)\n",
    "eq22 = Eq(y2, y1 + cba0b1*t1)\n",
    "eq23 = Eq(z2, 1)\n",
    "eq24 = Eq(t2*cac0a0,1 - x2)\n",
    "\n",
    "eq31 = Eq(x3, 0)\n",
    "eq32 = Eq(y3, y2 + cba0b1*t2)\n",
    "eq33 = Eq(z3, z2 - ccb1c0*t2)\n",
    "eq34 = Eq(t3*cba1b1,y3)\n",
    "\n",
    "eq41 = Eq(x4, x3 + cac0a1*t3)\n",
    "eq42 = Eq(y4, 1)\n",
    "eq43 = Eq(z4, z3 - ccb1c0*t3)\n",
    "eq44 = Eq(t4*ccb0c0,1 - z4)\n",
    "\n",
    "eq51 = Eq(x5, x4 + cac0a1*t4)\n",
    "eq52 = Eq(y5, y4 - cba1b0*t4)\n",
    "eq53 = Eq(z5, 0)\n",
    "eq54 = Eq(t5*cac1a1,x5)\n",
    "\n",
    "eq61 = Eq(x6, 1)\n",
    "eq62 = Eq(y6, y5 - cba1b0*t5)\n",
    "eq63 = Eq(z6, z5 + ccb0c1*t5)\n",
    "eq64 = Eq(t6*cba0b0,1 - y6)\n",
    "\n",
    "eq71 = Eq(x7, x6 - cac1a0*t6)\n",
    "eq72 = Eq(y7, 0)\n",
    "eq73 = Eq(z7, z6 + ccb0c1*t6)\n",
    "\n",
    "sol = solve([eq11, eq12, eq13, eq14,eq21, eq22, eq23, eq24,eq31, eq32, eq33, eq34,eq41, eq42, eq43, eq44,eq51, eq52, eq53, eq54,eq61, eq62, eq63, eq64,eq71, eq72, eq73], \n",
    "            [x1,x2,x3,x4,x5,x6,x7,y1,y2,y3,y4,y5,y6,y7,z1,z2,z3,z4,z5,z6,z7,t1,t2,t3,t4,t5,t6])\n",
    "\n",
    "lambda_x7 = lambdify([x,z], sol[x7])\n",
    "b1 = factor(lambda_x7(1,0) - lambda_x7(0,0))\n",
    "c1 = factor(lambda_x7(0,1) - lambda_x7(0,0))\n",
    "\n",
    "lambda_z7 = lambdify([x,z], sol[z7])\n",
    "b2 = factor(lambda_z7(1,0) - lambda_z7(0,0))\n",
    "c2 = factor(lambda_z7(0,1) - lambda_z7(0,0))"
   ]
  },
  {
   "cell_type": "markdown",
   "metadata": {},
   "source": [
    "# Condition for sustained oscillation"
   ]
  },
  {
   "cell_type": "code",
   "execution_count": 3,
   "metadata": {
    "ExecuteTime": {
     "end_time": "2022-08-24T08:53:20.479674Z",
     "start_time": "2022-08-24T08:53:19.337291Z"
    }
   },
   "outputs": [],
   "source": [
    "p1 = factor((b1+c2-2)*(c𝑎𝑐0𝑎0*c𝑎𝑐1𝑎1*c𝑏𝑎0𝑏0*c𝑏𝑎1𝑏1*c𝑐𝑏0𝑐0*c𝑐𝑏1𝑐1))\n",
    "p2 = factor((b1*c2-c1*b2-b1-c2+1)*(-c𝑎𝑐0𝑎0*c𝑎𝑐1𝑎1*c𝑏𝑎0𝑏0*c𝑏𝑎1𝑏1*c𝑐𝑏0𝑐0*c𝑐𝑏1𝑐1))"
   ]
  },
  {
   "cell_type": "markdown",
   "metadata": {},
   "source": [
    "A condition for sustained oscillation is that p1 > 0 or p2 > 0. Details about how this condition is obtained can be found in the article."
   ]
  },
  {
   "cell_type": "code",
   "execution_count": 4,
   "metadata": {
    "ExecuteTime": {
     "end_time": "2022-08-24T08:53:23.528827Z",
     "start_time": "2022-08-24T08:53:23.466015Z"
    }
   },
   "outputs": [
    {
     "data": {
      "text/latex": [
       "$\\displaystyle Cac0a0 Cac0a1 Cba0b0 Cba0b1 Ccb0c0 Ccb0c1 + Cac0a0 Cac0a1 Cba0b0 Cba0b1 Ccb0c1 Ccb1c0 + Cac0a0 Cac0a1 Cba0b1 Cba1b0 Ccb0c0 Ccb0c1 + Cac0a0 Cac0a1 Cba0b1 Cba1b0 Ccb0c1 Ccb1c0 - 2 Cac0a0 Cac1a1 Cba0b0 Cba1b1 Ccb0c0 Ccb1c1 + Cac0a0 Cac1a1 Cba0b1 Cba1b0 Ccb0c1 Ccb1c0 + Cac0a1 Cac1a0 Cba0b0 Cba0b1 Ccb0c0 Ccb0c1 + Cac0a1 Cac1a0 Cba0b0 Cba0b1 Ccb0c1 Ccb1c0 + Cac0a1 Cac1a0 Cba0b0 Cba1b1 Ccb0c1 Ccb1c0 + Cac0a1 Cac1a0 Cba0b1 Cba1b0 Ccb0c0 Ccb0c1 + Cac0a1 Cac1a0 Cba0b1 Cba1b0 Ccb0c0 Ccb1c1 + Cac0a1 Cac1a0 Cba0b1 Cba1b0 Ccb0c1 Ccb1c0 + Cac0a1 Cac1a0 Cba0b1 Cba1b0 Ccb1c0 Ccb1c1 + Cac0a1 Cac1a0 Cba1b0 Cba1b1 Ccb0c1 Ccb1c0 + Cac0a1 Cac1a0 Cba1b0 Cba1b1 Ccb1c0 Ccb1c1 + Cac1a0 Cac1a1 Cba0b1 Cba1b0 Ccb0c1 Ccb1c0 + Cac1a0 Cac1a1 Cba0b1 Cba1b0 Ccb1c0 Ccb1c1 + Cac1a0 Cac1a1 Cba1b0 Cba1b1 Ccb0c1 Ccb1c0 + Cac1a0 Cac1a1 Cba1b0 Cba1b1 Ccb1c0 Ccb1c1$"
      ],
      "text/plain": [
       "Cac0a0*Cac0a1*Cba0b0*Cba0b1*Ccb0c0*Ccb0c1 + Cac0a0*Cac0a1*Cba0b0*Cba0b1*Ccb0c1*Ccb1c0 + Cac0a0*Cac0a1*Cba0b1*Cba1b0*Ccb0c0*Ccb0c1 + Cac0a0*Cac0a1*Cba0b1*Cba1b0*Ccb0c1*Ccb1c0 - 2*Cac0a0*Cac1a1*Cba0b0*Cba1b1*Ccb0c0*Ccb1c1 + Cac0a0*Cac1a1*Cba0b1*Cba1b0*Ccb0c1*Ccb1c0 + Cac0a1*Cac1a0*Cba0b0*Cba0b1*Ccb0c0*Ccb0c1 + Cac0a1*Cac1a0*Cba0b0*Cba0b1*Ccb0c1*Ccb1c0 + Cac0a1*Cac1a0*Cba0b0*Cba1b1*Ccb0c1*Ccb1c0 + Cac0a1*Cac1a0*Cba0b1*Cba1b0*Ccb0c0*Ccb0c1 + Cac0a1*Cac1a0*Cba0b1*Cba1b0*Ccb0c0*Ccb1c1 + Cac0a1*Cac1a0*Cba0b1*Cba1b0*Ccb0c1*Ccb1c0 + Cac0a1*Cac1a0*Cba0b1*Cba1b0*Ccb1c0*Ccb1c1 + Cac0a1*Cac1a0*Cba1b0*Cba1b1*Ccb0c1*Ccb1c0 + Cac0a1*Cac1a0*Cba1b0*Cba1b1*Ccb1c0*Ccb1c1 + Cac1a0*Cac1a1*Cba0b1*Cba1b0*Ccb0c1*Ccb1c0 + Cac1a0*Cac1a1*Cba0b1*Cba1b0*Ccb1c0*Ccb1c1 + Cac1a0*Cac1a1*Cba1b0*Cba1b1*Ccb0c1*Ccb1c0 + Cac1a0*Cac1a1*Cba1b0*Cba1b1*Ccb1c0*Ccb1c1"
      ]
     },
     "execution_count": 4,
     "metadata": {},
     "output_type": "execute_result"
    }
   ],
   "source": [
    "p1"
   ]
  },
  {
   "cell_type": "code",
   "execution_count": 5,
   "metadata": {
    "ExecuteTime": {
     "end_time": "2022-08-24T08:53:29.572667Z",
     "start_time": "2022-08-24T08:53:29.520597Z"
    }
   },
   "outputs": [
    {
     "data": {
      "text/latex": [
       "$\\displaystyle Cac0a0 Cac0a1 Cba0b0 Cba0b1 Ccb0c0 Ccb0c1 + Cac0a0 Cac0a1 Cba0b0 Cba0b1 Ccb0c1 Ccb1c0 + Cac0a0 Cac0a1 Cba0b1 Cba1b0 Ccb0c0 Ccb0c1 + Cac0a0 Cac0a1 Cba0b1 Cba1b0 Ccb0c1 Ccb1c0 - Cac0a0 Cac1a1 Cba0b0 Cba1b1 Ccb0c0 Ccb1c1 + Cac0a0 Cac1a1 Cba0b1 Cba1b0 Ccb0c1 Ccb1c0 + Cac0a1 Cac1a0 Cba0b0 Cba0b1 Ccb0c0 Ccb0c1 + Cac0a1 Cac1a0 Cba0b0 Cba0b1 Ccb0c1 Ccb1c0 + Cac0a1 Cac1a0 Cba0b0 Cba1b1 Ccb0c1 Ccb1c0 + Cac0a1 Cac1a0 Cba0b1 Cba1b0 Ccb0c0 Ccb0c1 + Cac0a1 Cac1a0 Cba0b1 Cba1b0 Ccb0c0 Ccb1c1 + Cac0a1 Cac1a0 Cba0b1 Cba1b0 Ccb1c0 Ccb1c1 + Cac0a1 Cac1a0 Cba1b0 Cba1b1 Ccb0c1 Ccb1c0 + Cac0a1 Cac1a0 Cba1b0 Cba1b1 Ccb1c0 Ccb1c1 + Cac1a0 Cac1a1 Cba0b1 Cba1b0 Ccb0c1 Ccb1c0 + Cac1a0 Cac1a1 Cba0b1 Cba1b0 Ccb1c0 Ccb1c1 + Cac1a0 Cac1a1 Cba1b0 Cba1b1 Ccb0c1 Ccb1c0 + Cac1a0 Cac1a1 Cba1b0 Cba1b1 Ccb1c0 Ccb1c1$"
      ],
      "text/plain": [
       "Cac0a0*Cac0a1*Cba0b0*Cba0b1*Ccb0c0*Ccb0c1 + Cac0a0*Cac0a1*Cba0b0*Cba0b1*Ccb0c1*Ccb1c0 + Cac0a0*Cac0a1*Cba0b1*Cba1b0*Ccb0c0*Ccb0c1 + Cac0a0*Cac0a1*Cba0b1*Cba1b0*Ccb0c1*Ccb1c0 - Cac0a0*Cac1a1*Cba0b0*Cba1b1*Ccb0c0*Ccb1c1 + Cac0a0*Cac1a1*Cba0b1*Cba1b0*Ccb0c1*Ccb1c0 + Cac0a1*Cac1a0*Cba0b0*Cba0b1*Ccb0c0*Ccb0c1 + Cac0a1*Cac1a0*Cba0b0*Cba0b1*Ccb0c1*Ccb1c0 + Cac0a1*Cac1a0*Cba0b0*Cba1b1*Ccb0c1*Ccb1c0 + Cac0a1*Cac1a0*Cba0b1*Cba1b0*Ccb0c0*Ccb0c1 + Cac0a1*Cac1a0*Cba0b1*Cba1b0*Ccb0c0*Ccb1c1 + Cac0a1*Cac1a0*Cba0b1*Cba1b0*Ccb1c0*Ccb1c1 + Cac0a1*Cac1a0*Cba1b0*Cba1b1*Ccb0c1*Ccb1c0 + Cac0a1*Cac1a0*Cba1b0*Cba1b1*Ccb1c0*Ccb1c1 + Cac1a0*Cac1a1*Cba0b1*Cba1b0*Ccb0c1*Ccb1c0 + Cac1a0*Cac1a1*Cba0b1*Cba1b0*Ccb1c0*Ccb1c1 + Cac1a0*Cac1a1*Cba1b0*Cba1b1*Ccb0c1*Ccb1c0 + Cac1a0*Cac1a1*Cba1b0*Cba1b1*Ccb1c0*Ccb1c1"
      ]
     },
     "execution_count": 5,
     "metadata": {},
     "output_type": "execute_result"
    }
   ],
   "source": [
    "p2"
   ]
  },
  {
   "cell_type": "markdown",
   "metadata": {},
   "source": [
    "# Search for simple constraints"
   ]
  },
  {
   "cell_type": "code",
   "execution_count": 7,
   "metadata": {
    "ExecuteTime": {
     "end_time": "2022-08-24T09:34:21.602272Z",
     "start_time": "2022-08-24T09:30:25.339928Z"
    }
   },
   "outputs": [
    {
     "name": "stdout",
     "output_type": "stream",
     "text": [
      "[0, 1, 0, 1, 0, 1, 0, 1, 0, 1, 0, 1, 0, 1, 0, 1, 0, 1, 0, 1, 0, 1, 0, 1]\n",
      "[0, 0.5, 0, 1, 0, 1, 0, 1, 0, 0.5, 0, 1, 0, 1, 0, 1, 0, 0.5, 0, 1, 0, 1, 0, 1]\n",
      "[0, 0.5, 0, 0.5, 0, 1, 0, 1, 0, 0.5, 0, 0.5, 0, 1, 0, 1, 0, 0.5, 0, 0.5, 0, 1, 0, 1]\n",
      "[0, 0.5, 0, 0.5, 0, 0.5, 0, 1, 0, 0.5, 0, 0.5, 0, 0.5, 0, 1, 0, 0.5, 0, 0.5, 0, 0.5, 0, 1]\n",
      "[0, 0.5, 0, 0.5, 0, 0.5, 0, 0.5, 0, 0.5, 0, 0.5, 0, 0.5, 0, 0.5, 0, 0.5, 0, 0.5, 0, 0.5, 0, 0.5]\n",
      "[0, 0.5, 0, 0.5, 0, 0.5, 0.5, 1, 0, 0.5, 0, 0.5, 0, 0.5, 0.5, 1, 0, 0.5, 0, 0.5, 0, 0.5, 0.5, 1]\n",
      "[0, 0.5, 0, 0.5, 0.5, 1, 0, 1, 0, 0.5, 0, 0.5, 0.5, 1, 0, 1, 0, 0.5, 0, 0.5, 0.5, 1, 0, 1]\n",
      "Bingo!: [0, 0.5, 0, 0.5, 0.5, 1, 0, 1, 0, 0.5, 0, 0.5, 0.5, 1, 0, 1, 0, 0.5, 0, 0.5, 0.5, 1, 0, 1]\n",
      "[0, 0.5, 0.5, 1, 0, 1, 0, 1, 0, 0.5, 0.5, 1, 0, 1, 0, 1, 0, 0.5, 0.5, 1, 0, 1, 0, 1]\n",
      "[0, 0.5, 0.5, 1, 0, 0.5, 0, 1, 0, 0.5, 0.5, 1, 0, 0.5, 0, 1, 0, 0.5, 0.5, 1, 0, 0.5, 0, 1]\n",
      "[0, 0.5, 0.5, 1, 0, 0.5, 0, 0.5, 0, 0.5, 0.5, 1, 0, 0.5, 0, 0.5, 0, 0.5, 0.5, 1, 0, 0.5, 0, 0.5]\n",
      "Bingo!: [0, 0.5, 0.5, 1, 0, 0.5, 0, 0.5, 0, 0.5, 0.5, 1, 0, 0.5, 0, 0.5, 0, 0.5, 0.5, 1, 0, 0.5, 0, 0.5]\n",
      "[0, 0.5, 0.5, 1, 0, 0.5, 0.5, 1, 0, 0.5, 0.5, 1, 0, 0.5, 0.5, 1, 0, 0.5, 0.5, 1, 0, 0.5, 0.5, 1]\n",
      "[0, 0.5, 0.5, 1, 0.5, 1, 0, 1, 0, 0.5, 0.5, 1, 0.5, 1, 0, 1, 0, 0.5, 0.5, 1, 0.5, 1, 0, 1]\n",
      "Bingo!: [0, 0.5, 0.5, 1, 0.5, 1, 0, 1, 0, 0.5, 0.5, 1, 0.5, 1, 0, 1, 0, 0.5, 0.5, 1, 0.5, 1, 0, 1]\n",
      "[0.5, 1, 0, 1, 0, 1, 0, 1, 0.5, 1, 0, 1, 0, 1, 0, 1, 0.5, 1, 0, 1, 0, 1, 0, 1]\n",
      "[0.5, 1, 0, 0.5, 0, 1, 0, 1, 0.5, 1, 0, 0.5, 0, 1, 0, 1, 0.5, 1, 0, 0.5, 0, 1, 0, 1]\n",
      "[0.5, 1, 0, 0.5, 0, 0.5, 0, 1, 0.5, 1, 0, 0.5, 0, 0.5, 0, 1, 0.5, 1, 0, 0.5, 0, 0.5, 0, 1]\n",
      "[0.5, 1, 0, 0.5, 0, 0.5, 0, 0.5, 0.5, 1, 0, 0.5, 0, 0.5, 0, 0.5, 0.5, 1, 0, 0.5, 0, 0.5, 0, 0.5]\n",
      "[0.5, 1, 0, 0.5, 0, 0.5, 0.5, 1, 0.5, 1, 0, 0.5, 0, 0.5, 0.5, 1, 0.5, 1, 0, 0.5, 0, 0.5, 0.5, 1]\n",
      "[0.5, 1, 0, 0.5, 0.5, 1, 0, 1, 0.5, 1, 0, 0.5, 0.5, 1, 0, 1, 0.5, 1, 0, 0.5, 0.5, 1, 0, 1]\n",
      "[0.5, 1, 0, 0.5, 0.5, 1, 0, 0.5, 0.5, 1, 0, 0.5, 0.5, 1, 0, 0.5, 0.5, 1, 0, 0.5, 0.5, 1, 0, 0.5]\n",
      "[0.5, 1, 0, 0.5, 0.5, 1, 0.5, 1, 0.5, 1, 0, 0.5, 0.5, 1, 0.5, 1, 0.5, 1, 0, 0.5, 0.5, 1, 0.5, 1]\n",
      "[0.5, 1, 0.5, 1, 0, 1, 0, 1, 0.5, 1, 0.5, 1, 0, 1, 0, 1, 0.5, 1, 0.5, 1, 0, 1, 0, 1]\n",
      "[0.5, 1, 0.5, 1, 0, 0.5, 0, 1, 0.5, 1, 0.5, 1, 0, 0.5, 0, 1, 0.5, 1, 0.5, 1, 0, 0.5, 0, 1]\n",
      "[0.5, 1, 0.5, 1, 0, 0.5, 0, 0.5, 0.5, 1, 0.5, 1, 0, 0.5, 0, 0.5, 0.5, 1, 0.5, 1, 0, 0.5, 0, 0.5]\n",
      "Bingo!: [0.5, 1, 0.5, 1, 0, 0.5, 0, 0.5, 0.5, 1, 0.5, 1, 0, 0.5, 0, 0.5, 0.5, 1, 0.5, 1, 0, 0.5, 0, 0.5]\n",
      "[0.5, 1, 0.5, 1, 0, 0.5, 0.5, 1, 0.5, 1, 0.5, 1, 0, 0.5, 0.5, 1, 0.5, 1, 0.5, 1, 0, 0.5, 0.5, 1]\n",
      "[0.5, 1, 0.5, 1, 0.5, 1, 0, 1, 0.5, 1, 0.5, 1, 0.5, 1, 0, 1, 0.5, 1, 0.5, 1, 0.5, 1, 0, 1]\n",
      "Bingo!: [0.5, 1, 0.5, 1, 0.5, 1, 0, 1, 0.5, 1, 0.5, 1, 0.5, 1, 0, 1, 0.5, 1, 0.5, 1, 0.5, 1, 0, 1]\n"
     ]
    }
   ],
   "source": [
    "# Use multi-indice to represent p1 and p2\n",
    "list_p1_pos = [(1,1,0,0,1,1,0,0,1,1,0,0),\n",
    "              (1,1,0,0,1,1,0,0,0,1,1,0),\n",
    "              (1,1,0,0,0,1,1,0,1,1,0,0),\n",
    "              (1,1,0,0,0,1,1,0,0,1,1,0),\n",
    "              (1,0,0,1,0,1,1,0,0,1,1,0),\n",
    "              (0,1,1,0,1,1,0,0,1,1,0,0),\n",
    "              (0,1,1,0,1,1,0,0,0,1,1,0),\n",
    "              (0,1,1,0,1,0,0,1,0,1,1,0),\n",
    "              (0,1,1,0,0,1,1,0,1,1,0,0),\n",
    "              (0,1,1,0,0,1,1,0,1,0,0,1),\n",
    "              (0,1,1,0,0,1,1,0,0,1,1,0),\n",
    "              (0,1,1,0,0,1,1,0,0,0,1,1),\n",
    "              (0,1,1,0,0,0,1,1,0,1,1,0),\n",
    "              (0,1,1,0,0,0,1,1,0,0,1,1),\n",
    "              (0,0,1,1,0,1,1,0,0,1,1,0),\n",
    "              (0,0,1,1,0,1,1,0,0,0,1,1),\n",
    "              (0,0,1,1,0,0,1,1,0,1,1,0),\n",
    "              (0,0,1,1,0,0,1,1,0,0,1,1)]\n",
    "\n",
    "list_p1_neg = [(1,0,0,1,1,0,0,1,1,0,0,1)]\n",
    "\n",
    "list_p2_pos = [(1,1,0,0,1,1,0,0,1,1,0,0),\n",
    "              (1,1,0,0,1,1,0,0,0,1,1,0),\n",
    "              (1,1,0,0,0,1,1,0,1,1,0,0),\n",
    "              (1,1,0,0,0,1,1,0,0,1,1,0),\n",
    "              (1,0,0,1,0,1,1,0,0,1,1,0),\n",
    "              (0,1,1,0,1,1,0,0,1,1,0,0),\n",
    "              (0,1,1,0,1,1,0,0,0,1,1,0),\n",
    "              (0,1,1,0,1,0,0,1,0,1,1,0),\n",
    "              (0,1,1,0,0,1,1,0,1,1,0,0),\n",
    "              (0,1,1,0,0,1,1,0,1,0,0,1),\n",
    "              (0,1,1,0,0,1,1,0,0,0,1,1),\n",
    "              (0,1,1,0,0,0,1,1,0,1,1,0),\n",
    "              (0,1,1,0,0,0,1,1,0,0,1,1),\n",
    "              (0,0,1,1,0,1,1,0,0,1,1,0),\n",
    "              (0,0,1,1,0,1,1,0,0,0,1,1),\n",
    "              (0,0,1,1,0,0,1,1,0,1,1,0),\n",
    "              (0,0,1,1,0,0,1,1,0,0,1,1)]\n",
    "\n",
    "list_p2_neg = [(1,0,0,1,1,0,0,1,1,0,0,1)]\n",
    "\n",
    "def include(j,i):\n",
    "    temp = True\n",
    "    for k in range(len(j)):\n",
    "        if j[k]>i[k]:\n",
    "            temp = False\n",
    "            break\n",
    "    return temp\n",
    "def get_one_coeff(j,i,interval):\n",
    "    temp = 1\n",
    "    for k in range(12):\n",
    "        if j[k] == i[k] and j[k] == 1:\n",
    "            temp = temp*(interval[2*k+1] - interval[2*k])\n",
    "        elif j[k] != i[k]:\n",
    "            temp = temp*(interval[2*k])\n",
    "    return temp\n",
    "def get_a1(j,interval,list_p1_pos,list_p1_neg):\n",
    "    temp = 0\n",
    "    for ele in list_p1_pos:\n",
    "        if include(j,ele):\n",
    "            coeff = get_one_coeff(j,ele,interval)\n",
    "            temp = temp + coeff\n",
    "    for ele in list_p1_neg:\n",
    "        if include(j,ele):\n",
    "            coeff = get_one_coeff(j,ele,interval)\n",
    "            temp = temp + (-2)*coeff\n",
    "    return temp\n",
    "\n",
    "def get_a2(j,interval,list_p2_pos,list_p2_neg):\n",
    "    temp = 0\n",
    "    for ele in list_p2_pos:\n",
    "        if include(j,ele):\n",
    "            coeff = get_one_coeff(j,ele,interval)\n",
    "            temp = temp + coeff\n",
    "    for ele in list_p2_neg:\n",
    "        if include(j,ele):\n",
    "            coeff = get_one_coeff(j,ele,interval)\n",
    "            temp = temp + (-1)*coeff\n",
    "    return temp\n",
    "\n",
    "def generate_i(i):\n",
    "    index1 = []\n",
    "    for k in range(12):\n",
    "        if i[k] == 1:\n",
    "            index1 = index1 + [k]\n",
    "    l=[0,1]\n",
    "    all_i = list(itertools.product(l, repeat=len(index1)))\n",
    "    return_list = [[0,0,0,0,0,0,0,0,0,0,0,0] for _ in range(len(all_i))]\n",
    "    for k in range(len(return_list)):\n",
    "        for p in range(len(index1)):\n",
    "            return_list[k][index1[p]] = all_i[k][p]\n",
    "    new_return_list = []\n",
    "    for ele in return_list:\n",
    "        new_return_list = new_return_list + [tuple(ele)]\n",
    "    return new_return_list\n",
    "    \n",
    "\n",
    "def eva(interval):\n",
    "    list_b1 = [0 for i in range(len(bernstein_list))]\n",
    "    list_b2 = [0 for i in range(len(bernstein_list))]\n",
    "    for i in range(len(bernstein_list)):\n",
    "        current_j = generate_i(bernstein_list[i])\n",
    "        for j in range(len(current_j)):\n",
    "            temp_a1 = get_a1(current_j[j],interval,list_p1_pos,list_p1_neg)\n",
    "            temp_a2 = get_a2(current_j[j],interval,list_p2_pos,list_p2_neg)\n",
    "            list_b1[i] = list_b1[i] + temp_a1\n",
    "            list_b2[i] = list_b2[i] + temp_a2\n",
    "        if list_b1[i]<0 and list_b2[i]<0:\n",
    "            return False\n",
    "    min_b1 = min(list_b1)\n",
    "    min_b2 = min(list_b2)\n",
    "    if min_b1 >= 0 or min_b2 >=0:\n",
    "        return True\n",
    "    else:\n",
    "        return False\n",
    "\n",
    "def search(interval):\n",
    "    print(interval)\n",
    "    if eva(interval) == True:\n",
    "        print('Bingo!:',interval)\n",
    "        return\n",
    "    else:\n",
    "        max_len = 0\n",
    "        max_id = 0\n",
    "        for k in range(4):\n",
    "            current = interval[k*2+1] - interval[k*2]\n",
    "            if current>max_len:\n",
    "                max_len = current\n",
    "                max_id = k\n",
    "        if max_len < 0.6:\n",
    "            return\n",
    "        \n",
    "        else:\n",
    "            interval1 = dc(interval)\n",
    "            interval2 = dc(interval)\n",
    "            mid = (interval[max_id*2+1] + interval[max_id*2])/2\n",
    "            interval1[max_id*2+1] = mid\n",
    "            interval2[max_id*2] = mid\n",
    "            interval1 = dc(interval1[0:8]) + dc(interval1[0:8]) + dc(interval1[0:8])\n",
    "            interval2 = dc(interval2[0:8]) + dc(interval2[0:8]) + dc(interval2[0:8])\n",
    "            search(interval1)\n",
    "            search(interval2)\n",
    "    \n",
    "l = [0, 1]\n",
    "bernstein_list = list(itertools.product(l, repeat=12))\n",
    "\n",
    "interval = []\n",
    "for _ in range(12):\n",
    "    interval = interval + [0,1]\n",
    "\n",
    "search(interval)\n"
   ]
  },
  {
   "cell_type": "code",
   "execution_count": null,
   "metadata": {},
   "outputs": [],
   "source": []
  }
 ],
 "metadata": {
  "kernelspec": {
   "display_name": "Python 3",
   "language": "python",
   "name": "python3"
  },
  "language_info": {
   "codemirror_mode": {
    "name": "ipython",
    "version": 3
   },
   "file_extension": ".py",
   "mimetype": "text/x-python",
   "name": "python",
   "nbconvert_exporter": "python",
   "pygments_lexer": "ipython3",
   "version": "3.6.5"
  },
  "latex_envs": {
   "LaTeX_envs_menu_present": true,
   "autoclose": false,
   "autocomplete": true,
   "bibliofile": "biblio.bib",
   "cite_by": "apalike",
   "current_citInitial": 1,
   "eqLabelWithNumbers": true,
   "eqNumInitial": 1,
   "hotkeys": {
    "equation": "Ctrl-E",
    "itemize": "Ctrl-I"
   },
   "labels_anchors": false,
   "latex_user_defs": false,
   "report_style_numbering": false,
   "user_envs_cfg": false
  },
  "toc": {
   "base_numbering": 1,
   "nav_menu": {},
   "number_sections": true,
   "sideBar": true,
   "skip_h1_title": false,
   "title_cell": "Table of Contents",
   "title_sidebar": "Contents",
   "toc_cell": false,
   "toc_position": {
    "height": "calc(100% - 180px)",
    "left": "10px",
    "top": "150px",
    "width": "209px"
   },
   "toc_section_display": true,
   "toc_window_display": true
  }
 },
 "nbformat": 4,
 "nbformat_minor": 4
}
